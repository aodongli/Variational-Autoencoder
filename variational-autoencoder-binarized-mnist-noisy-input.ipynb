{
 "cells": [
  {
   "cell_type": "code",
   "execution_count": 1,
   "metadata": {},
   "outputs": [],
   "source": [
    "%load_ext autoreload\n",
    "%reload_ext autoreload\n",
    "%autoreload 2\n",
    "\n",
    "import os\n",
    "import sys\n",
    "import numpy as np\n",
    "from scipy import stats\n",
    "\n",
    "import matplotlib\n",
    "matplotlib.rcParams['pdf.fonttype'] = 42\n",
    "matplotlib.rcParams['ps.fonttype'] = 42\n",
    "matplotlib.rcParams['text.usetex'] = True\n",
    "matplotlib.rc('text.latex', preamble=r'\\usepackage{amsmath}\\usepackage{amssymb}')\n",
    "import matplotlib.pyplot as plt\n",
    "\n",
    "old_stdout = sys.__stdout__"
   ]
  },
  {
   "cell_type": "code",
   "execution_count": 2,
   "metadata": {},
   "outputs": [],
   "source": [
    "# dataset\n",
    "from torch.utils.data import Dataset, DataLoader\n",
    "\n",
    "def add_shot_noise(image):\n",
    "    # randomly flip the pixel with probability 0.2\n",
    "    \n",
    "    # if s==1 then flip;\n",
    "    # `image + 0.5*s` stratify `image` pixel into {0, 0.5, 1, 1.5}\n",
    "    # 0.5 indicates the value needs to be fliped to 1\n",
    "    # 1.5 indicates the value needs to be fliped to 0\n",
    "    s = 0.5 * np.random.binomial(1, 0.2, 784)\n",
    "    tmp_img = image + s\n",
    "    flip_zero_idx = np.where(tmp_img == 0.5)[0]\n",
    "    flip_one_idx = np.where(tmp_img == 1.5)[0]\n",
    "    tmp_img[flip_zero_idx] = 1.\n",
    "    tmp_img[flip_one_idx] = 0.\n",
    "    return tmp_img\n",
    "    \n",
    "\n",
    "class NoisyData(Dataset):\n",
    "    def __init__(self, x, y):\n",
    "        self.x = x\n",
    "        self.y = y\n",
    "    \n",
    "    def __len__(self):\n",
    "        return len(self.y)\n",
    "    \n",
    "    def __getitem__(self, idx):\n",
    "        image = self.x[idx]\n",
    "        label = self.y[idx]\n",
    "        image = image.reshape(784)\n",
    "        \n",
    "        image = add_shot_noise(image)\n",
    "        return image, label\n",
    "\n",
    "def get_dataloader(x, y, batch_size, num_worker, shuffle):\n",
    "    '''Use PyTorch Dataset to enable multiprocessing to prepare data.\n",
    "    '''\n",
    "    dataset = NoisyData(x, y)\n",
    "    \n",
    "    init_fun = np.random.seed()\n",
    "    dataloader = DataLoader(\n",
    "        dataset, \n",
    "        batch_size=batch_size,\n",
    "        shuffle=shuffle,\n",
    "        num_workers=num_worker,\n",
    "        worker_init_fn=init_fun\n",
    "    )\n",
    "    return dataloader"
   ]
  },
  {
   "cell_type": "markdown",
   "metadata": {},
   "source": [
    "Variational Auto-encoder ELBO:\n",
    "\n",
    "\\begin{align}\n",
    "& E_{q(z|x)} [\\log p(x,z) - \\log q(z|x)] \\\\\n",
    "= & E_{q(z|x)} [\\log p(x|z)] - KL[q(z|x)||p(z)] \\\\\n",
    "\\propto & - \\sum_{i=1}^N (\\hat x_i - x_i)^2 - \\sum_{i=1}^K KL(q_{z_i|x}||p(z_i))\n",
    "\\end{align}\n",
    "where $N$ and $K$ is the dimension of the input and latent variable, respectively."
   ]
  },
  {
   "cell_type": "code",
   "execution_count": 3,
   "metadata": {},
   "outputs": [],
   "source": [
    "import tensorflow as tf\n",
    "from tensorflow import keras\n",
    "from tensorflow.keras import layers\n",
    "import tensorflow_probability as tfp\n",
    "tfd = tfp.distributions\n",
    "\n",
    "from datetime import datetime\n",
    "def print_log(*args):\n",
    "    print(\"[{}]\".format(datetime.now()), *args)\n",
    "    sys.stdout.flush()\n",
    "\n",
    "class VariationalAutoEncoder:\n",
    "    def __init__(self, x_dim, z_dim, net_size, lr=0.001, kl_weight=1.0):\n",
    "        \n",
    "        # 'z_dim, activation, loss' can be tuned\n",
    "        \n",
    "        # reset the default graph otherwise the variable initialization will get\n",
    "        # slower because all models create the variables and operations in the\n",
    "        # same graph\n",
    "        tf.reset_default_graph()\n",
    "        \n",
    "        self.x_dim = x_dim\n",
    "        self.z_dim = z_dim\n",
    "        self.lr = lr\n",
    "        self.kl_weight = kl_weight\n",
    "        \n",
    "        with tf.compat.v1.variable_scope('placeholder'):\n",
    "            x_shape = [None] + [self.x_dim]\n",
    "            self.x = tf.placeholder(\n",
    "                tf.float32, \n",
    "                shape=x_shape)\n",
    "        \n",
    "        with tf.compat.v1.variable_scope('networks'):\n",
    "            self.recog = keras.Sequential(\n",
    "                [\n",
    "                    layers.Dense(net_size, activation='relu'),\n",
    "                    layers.Dense(net_size, activation='relu'),\n",
    "                    layers.Dense(net_size, activation='relu'),\n",
    "                    layers.Dense(self.z_dim*2, activation=None),\n",
    "                ]\n",
    "            )\n",
    "            self.gen = keras.Sequential(\n",
    "                [\n",
    "                    layers.Dense(net_size, activation='relu'),\n",
    "                    layers.Dense(net_size, activation='relu'),\n",
    "                    layers.Dense(net_size, activation='relu'),\n",
    "                    layers.Dense(self.x_dim, activation=None),\n",
    "                ]\n",
    "            )\n",
    "        \n",
    "        with tf.compat.v1.variable_scope('z'):\n",
    "            self.p_z = tfd.Normal(\n",
    "                loc=[0.] * self.z_dim,\n",
    "                scale=[1.] * self.z_dim,\n",
    "                name='p_z_dist')\n",
    "            \n",
    "            self.z_param = self.recog(self.x)\n",
    "            self.z_mean = self.z_param[:, :self.z_dim]\n",
    "            self.z_std = tf.math.softplus(self.z_param[:, self.z_dim:])\n",
    "\n",
    "            self.q_z = tfd.Normal(\n",
    "                loc=self.z_mean,\n",
    "                scale=self.z_std,\n",
    "                name='q_z_dist')\n",
    "            \n",
    "            self.z = self.q_z.sample()\n",
    "            \n",
    "        with tf.compat.v1.variable_scope('x'):\n",
    "            self.re_x_logit = self.gen(self.z)\n",
    "            self.p_re_x = tfd.Bernoulli(logits=self.re_x_logit, name='p_x_z_dist')\n",
    "            self.re_x = self.p_re_x.sample()\n",
    "        \n",
    "        with tf.compat.v1.variable_scope('training_loss'):\n",
    "            self.rec_error = -tf.reduce_sum(\n",
    "                self.p_re_x.log_prob(self.x), axis=-1)\n",
    "            self.kl_loss = tf.reduce_sum(tfd.kl_divergence(self.q_z, self.p_z, name='KL'), axis=-1)\n",
    "            self.nelbo = self.rec_error + self.kl_weight * self.kl_loss\n",
    "            self.ave_nelbo = tf.reduce_mean(self.nelbo)\n",
    "        \n",
    "        self.optimizer = tf.train.AdamOptimizer(\n",
    "            learning_rate=self.lr)\n",
    "        self.train_step = self.optimizer.minimize(self.ave_nelbo)\n",
    "        \n",
    "        # sample from prior\n",
    "        self.z_from_prior = self.p_z.sample()\n",
    "        self.x_sample_logit = self.gen(tf.expand_dims(self.z_from_prior, axis=0))\n",
    "        self.p_x_sample = tfd.Bernoulli(logits=self.x_sample_logit)\n",
    "        self.x_sample = self.p_x_sample.sample()\n",
    "        \n",
    "    # initialization\n",
    "    def init_session(self):\n",
    "        # Initializing the variables\n",
    "        init = tf.global_variables_initializer()\n",
    "\n",
    "        # launch a session\n",
    "        config = tf.ConfigProto()\n",
    "        config.gpu_options.allow_growth = False #True\n",
    "        self.sess = tf.Session(config=config)\n",
    "\n",
    "        self.sess.run(init)\n",
    "        \n",
    "    def train(self, tr_loader, no_epochs=500, te_loader=None):\n",
    "        costs = []\n",
    "        rec_error = []\n",
    "        kl_loss = []\n",
    "        \n",
    "        for epoch_idx in range(no_epochs):\n",
    "            epoch_cost = 0.\n",
    "            epoch_lik_cost = 0.\n",
    "            epoch_kl_cost = 0.\n",
    "            for batch_idx, tr_batch in enumerate(tr_loader):\n",
    "                tr_x, _, = tr_batch\n",
    "                _, cost, kl, rec = self.sess.run(\n",
    "                    [\n",
    "                        self.train_step,\n",
    "                        self.ave_nelbo,\n",
    "                        self.kl_loss,\n",
    "                        self.rec_error\n",
    "                    ],\n",
    "                    feed_dict={\n",
    "                        self.x: tr_x\n",
    "                    }\n",
    "                )\n",
    "                \n",
    "                epoch_cost += cost\n",
    "                epoch_lik_cost += np.mean(rec)\n",
    "                epoch_kl_cost += np.mean(kl)\n",
    "                \n",
    "                costs.append(cost)\n",
    "                rec_error.append(np.mean(rec))\n",
    "                kl_loss.append(np.mean(kl))\n",
    "                \n",
    "            batch_idx += 1\n",
    "            epoch_cost /= batch_idx\n",
    "            epoch_lik_cost /= batch_idx\n",
    "            epoch_kl_cost /= batch_idx\n",
    "            \n",
    "            print_log(\"Epoch:\", '%04d' % (epoch_idx+1), \n",
    "                \"total cost=\", \n",
    "                \"{:.9f}\".format(epoch_cost), \n",
    "                \"log-likelihood term=\", \n",
    "                \"{:.9f}\".format(epoch_lik_cost), \n",
    "                \"kl/regluarization term=\", \n",
    "                \"{:.9f}\".format(epoch_cost - epoch_lik_cost))\n",
    "            \n",
    "        return costs, rec_error, kl_loss"
   ]
  },
  {
   "cell_type": "code",
   "execution_count": 4,
   "metadata": {},
   "outputs": [
    {
     "name": "stdout",
     "output_type": "stream",
     "text": [
      "WARNING:tensorflow:From /home/aodongl1/.conda/envs/py3gpu/lib/python3.7/site-packages/tensorflow_core/python/ops/resource_variable_ops.py:1630: calling BaseResourceVariable.__init__ (from tensorflow.python.ops.resource_variable_ops) with constraint is deprecated and will be removed in a future version.\n",
      "Instructions for updating:\n",
      "If using Keras pass *_constraint arguments to layers.\n",
      "[2021-06-06 12:45:49.294915] Epoch: 0001 total cost= 440.480497350 log-likelihood term= 439.238422494 kl/regluarization term= 1.242074857\n",
      "[2021-06-06 12:45:50.590307] Epoch: 0002 total cost= 434.424322957 log-likelihood term= 434.123647161 kl/regluarization term= 0.300675797\n",
      "[2021-06-06 12:45:51.825122] Epoch: 0003 total cost= 433.837010728 log-likelihood term= 433.566891655 kl/regluarization term= 0.270119073\n",
      "[2021-06-06 12:45:53.128845] Epoch: 0004 total cost= 433.620630873 log-likelihood term= 433.385919701 kl/regluarization term= 0.234711173\n",
      "[2021-06-06 12:45:54.383857] Epoch: 0005 total cost= 433.282737692 log-likelihood term= 433.042479191 kl/regluarization term= 0.240258501\n",
      "[2021-06-06 12:45:55.644991] Epoch: 0006 total cost= 430.927942566 log-likelihood term= 429.828782806 kl/regluarization term= 1.099159760\n",
      "[2021-06-06 12:45:56.893240] Epoch: 0007 total cost= 429.665879654 log-likelihood term= 428.236217718 kl/regluarization term= 1.429661936\n",
      "[2021-06-06 12:45:58.163207] Epoch: 0008 total cost= 428.907659241 log-likelihood term= 427.328349648 kl/regluarization term= 1.579309593\n",
      "[2021-06-06 12:45:59.408925] Epoch: 0009 total cost= 426.957147409 log-likelihood term= 425.263482538 kl/regluarization term= 1.693664870\n",
      "[2021-06-06 12:46:00.713065] Epoch: 0010 total cost= 425.748520776 log-likelihood term= 423.952608438 kl/regluarization term= 1.795912338\n",
      "[2021-06-06 12:46:01.991301] Epoch: 0011 total cost= 424.731966348 log-likelihood term= 422.702401046 kl/regluarization term= 2.029565302\n",
      "[2021-06-06 12:46:03.238597] Epoch: 0012 total cost= 424.067834025 log-likelihood term= 421.925060971 kl/regluarization term= 2.142773054\n",
      "[2021-06-06 12:46:04.489772] Epoch: 0013 total cost= 423.469109500 log-likelihood term= 421.184686950 kl/regluarization term= 2.284422550\n",
      "[2021-06-06 12:46:05.792317] Epoch: 0014 total cost= 423.064528221 log-likelihood term= 420.595349856 kl/regluarization term= 2.469178365\n",
      "[2021-06-06 12:46:07.079689] Epoch: 0015 total cost= 422.721795207 log-likelihood term= 420.111633461 kl/regluarization term= 2.610161746\n",
      "[2021-06-06 12:46:08.364237] Epoch: 0016 total cost= 422.324521529 log-likelihood term= 419.599793918 kl/regluarization term= 2.724727611\n",
      "[2021-06-06 12:46:09.658046] Epoch: 0017 total cost= 422.277350301 log-likelihood term= 419.489858577 kl/regluarization term= 2.787491724\n",
      "[2021-06-06 12:46:10.937485] Epoch: 0018 total cost= 421.940491042 log-likelihood term= 419.143750575 kl/regluarization term= 2.796740467\n",
      "[2021-06-06 12:46:12.206124] Epoch: 0019 total cost= 421.948987392 log-likelihood term= 419.104604831 kl/regluarization term= 2.844382561\n",
      "[2021-06-06 12:46:13.434718] Epoch: 0020 total cost= 421.642272150 log-likelihood term= 418.765284194 kl/regluarization term= 2.876987957\n",
      "[2021-06-06 12:46:14.739693] Epoch: 0021 total cost= 421.637916605 log-likelihood term= 418.740421475 kl/regluarization term= 2.897495130\n",
      "[2021-06-06 12:46:16.031517] Epoch: 0022 total cost= 421.493502472 log-likelihood term= 418.559865103 kl/regluarization term= 2.933637369\n",
      "[2021-06-06 12:46:17.295096] Epoch: 0023 total cost= 421.497384436 log-likelihood term= 418.571343707 kl/regluarization term= 2.926040729\n",
      "[2021-06-06 12:46:18.573597] Epoch: 0024 total cost= 421.377747381 log-likelihood term= 418.388554918 kl/regluarization term= 2.989192463\n",
      "[2021-06-06 12:46:19.856504] Epoch: 0025 total cost= 421.267687413 log-likelihood term= 418.272147293 kl/regluarization term= 2.995540120\n",
      "[2021-06-06 12:46:21.100709] Epoch: 0026 total cost= 421.348942143 log-likelihood term= 418.307943614 kl/regluarization term= 3.040998529\n",
      "[2021-06-06 12:46:22.348303] Epoch: 0027 total cost= 421.180830871 log-likelihood term= 418.144954502 kl/regluarization term= 3.035876369\n",
      "[2021-06-06 12:46:23.611757] Epoch: 0028 total cost= 421.122298955 log-likelihood term= 418.080171276 kl/regluarization term= 3.042127679\n",
      "[2021-06-06 12:46:24.863644] Epoch: 0029 total cost= 421.060646097 log-likelihood term= 417.998276316 kl/regluarization term= 3.062369781\n",
      "[2021-06-06 12:46:26.156678] Epoch: 0030 total cost= 420.882711361 log-likelihood term= 417.815989389 kl/regluarization term= 3.066721971\n",
      "[2021-06-06 12:46:27.429572] Epoch: 0031 total cost= 420.955806552 log-likelihood term= 417.860408923 kl/regluarization term= 3.095397630\n",
      "[2021-06-06 12:46:28.705869] Epoch: 0032 total cost= 420.805442930 log-likelihood term= 417.681112879 kl/regluarization term= 3.124330051\n",
      "[2021-06-06 12:46:29.989940] Epoch: 0033 total cost= 420.716709796 log-likelihood term= 417.580770123 kl/regluarization term= 3.135939673\n",
      "[2021-06-06 12:46:31.221236] Epoch: 0034 total cost= 420.695969507 log-likelihood term= 417.546462773 kl/regluarization term= 3.149506734\n",
      "[2021-06-06 12:46:32.503766] Epoch: 0035 total cost= 420.615860704 log-likelihood term= 417.418260984 kl/regluarization term= 3.197599721\n",
      "[2021-06-06 12:46:33.756370] Epoch: 0036 total cost= 420.566293607 log-likelihood term= 417.292075911 kl/regluarization term= 3.274217695\n",
      "[2021-06-06 12:46:35.045185] Epoch: 0037 total cost= 420.297248720 log-likelihood term= 416.943593609 kl/regluarization term= 3.353655111\n",
      "[2021-06-06 12:46:36.299209] Epoch: 0038 total cost= 420.123897053 log-likelihood term= 416.773157889 kl/regluarization term= 3.350739165\n",
      "[2021-06-06 12:46:37.527046] Epoch: 0039 total cost= 419.914416408 log-likelihood term= 416.519886756 kl/regluarization term= 3.394529652\n",
      "[2021-06-06 12:46:38.843166] Epoch: 0040 total cost= 419.826474175 log-likelihood term= 416.419854129 kl/regluarization term= 3.406620046\n",
      "[2021-06-06 12:46:40.097975] Epoch: 0041 total cost= 419.633594293 log-likelihood term= 416.189774758 kl/regluarization term= 3.443819535\n",
      "[2021-06-06 12:46:41.349701] Epoch: 0042 total cost= 419.844364666 log-likelihood term= 416.349371625 kl/regluarization term= 3.494993040\n",
      "[2021-06-06 12:46:42.602837] Epoch: 0043 total cost= 419.688620043 log-likelihood term= 416.185707452 kl/regluarization term= 3.502912591\n",
      "[2021-06-06 12:46:43.898080] Epoch: 0044 total cost= 419.859380273 log-likelihood term= 416.313938161 kl/regluarization term= 3.545442112\n",
      "[2021-06-06 12:46:45.182373] Epoch: 0045 total cost= 419.550413122 log-likelihood term= 415.985472674 kl/regluarization term= 3.564940448\n",
      "[2021-06-06 12:46:46.453312] Epoch: 0046 total cost= 419.452494516 log-likelihood term= 415.860285095 kl/regluarization term= 3.592209422\n",
      "[2021-06-06 12:46:47.713925] Epoch: 0047 total cost= 419.347048295 log-likelihood term= 415.730495273 kl/regluarization term= 3.616553022\n",
      "[2021-06-06 12:46:49.030691] Epoch: 0048 total cost= 419.282605236 log-likelihood term= 415.664017123 kl/regluarization term= 3.618588113\n",
      "[2021-06-06 12:46:50.315045] Epoch: 0049 total cost= 419.303854578 log-likelihood term= 415.637378952 kl/regluarization term= 3.666475626\n",
      "[2021-06-06 12:46:51.615107] Epoch: 0050 total cost= 419.077297830 log-likelihood term= 415.399713007 kl/regluarization term= 3.677584823\n"
     ]
    }
   ],
   "source": [
    "mini_batchsize = 64\n",
    "no_epochs = 50\n",
    "lr = 0.001\n",
    "z_dim = 100\n",
    "net_size = 200\n",
    "\n",
    "# data\n",
    "(x_train, y_train), (x_test, y_test) = \\\n",
    "    tf.keras.datasets.mnist.load_data()\n",
    "x_train = x_train.astype('float32')\n",
    "y_train = np.squeeze(y_train) # (60000,)\n",
    "x_test = x_test.astype('float32')\n",
    "y_test = np.squeeze(y_test) # (10000,)\n",
    "x_train /= 255\n",
    "x_test /= 255\n",
    "x_train = (x_train > 0.5).astype(np.float32)\n",
    "x_test = (x_test > 0.5).astype(np.float32)\n",
    "\n",
    "# which label\n",
    "digit = [[1], [5]]\n",
    "def get_digits(x, y, digit):\n",
    "    where_arg = np.bitwise_or.reduce(y == digit, axis=0)\n",
    "    digit_idx = np.where(where_arg)[0]\n",
    "    digit_idx[0]\n",
    "    x = x[digit_idx]\n",
    "    y = y[digit_idx]\n",
    "    return x, y\n",
    "x_train, y_train = get_digits(x_train, y_train, digit)\n",
    "x_test, y_test = get_digits(x_test, y_test, digit)\n",
    "\n",
    "mnist_tr_loader = get_dataloader(x_train, y_train, mini_batchsize, 4, True)\n",
    "\n",
    "# model\n",
    "vae = VariationalAutoEncoder(x_dim=784, z_dim=z_dim, net_size=net_size, lr=lr)\n",
    "vae.init_session()\n",
    "\n",
    "# train\n",
    "costs, rec_error, kl_loss = vae.train(mnist_tr_loader, no_epochs=no_epochs)"
   ]
  },
  {
   "cell_type": "code",
   "execution_count": 5,
   "metadata": {},
   "outputs": [
    {
     "name": "stderr",
     "output_type": "stream",
     "text": [
      "/home/aodongl1/.conda/envs/py3gpu/lib/python3.7/site-packages/ipykernel_launcher.py:19: UserWarning: tight_layout : falling back to Agg renderer\n"
     ]
    },
    {
     "data": {
      "image/png": "[encoded data removed]",
      "text/plain": [
       "<Figure size 360x360 with 3 Axes>"
      ]
     },
     "execution_count": 5,
     "metadata": {},
     "output_type": "execute_result"
    }
   ],
   "source": [
    "fig = plt.Figure(figsize=[5,5])\n",
    "axes = fig.subplots(3,1)\n",
    "\n",
    "ax = axes[0]\n",
    "ax.plot(costs)\n",
    "ax.set_xlabel('Iteration')\n",
    "ax.set_ylabel('NELBO')\n",
    "\n",
    "ax = axes[1]\n",
    "ax.plot(rec_error)\n",
    "ax.set_xlabel('Iteration')\n",
    "ax.set_ylabel('REC Loss')\n",
    "\n",
    "ax = axes[2]\n",
    "ax.plot(kl_loss)\n",
    "ax.set_xlabel('Iteration')\n",
    "ax.set_ylabel('KL Loss')\n",
    "\n",
    "fig.tight_layout()\n",
    "fig"
   ]
  },
  {
   "cell_type": "code",
   "execution_count": 6,
   "metadata": {},
   "outputs": [
    {
     "data": {
      "image/png": "[encoded data removed]",
      "text/plain": [
       "<Figure size 432x288 with 2 Axes>"
      ]
     },
     "execution_count": 6,
     "metadata": {},
     "output_type": "execute_result"
    }
   ],
   "source": [
    "# reconstruct a test image\n",
    "x_te = x_test[0]\n",
    "x_te = x_te.reshape(784)\n",
    "x_te = add_shot_noise(x_te)\n",
    "re_x = vae.sess.run([vae.re_x], feed_dict={vae.x: [x_te]})[0][0]\n",
    "\n",
    "fig = plt.Figure()\n",
    "axes = fig.subplots(nrows=1, ncols=2)\n",
    "axes[0].imshow(x_te.reshape(28,28))\n",
    "axes[1].imshow(re_x.reshape(28,28))\n",
    "\n",
    "fig"
   ]
  },
  {
   "cell_type": "code",
   "execution_count": 7,
   "metadata": {},
   "outputs": [
    {
     "data": {
      "image/png": "[encoded data removed]",
      "text/plain": [
       "<Figure size 432x288 with 2 Axes>"
      ]
     },
     "execution_count": 7,
     "metadata": {},
     "output_type": "execute_result"
    }
   ],
   "source": [
    "# reconstruct a test image\n",
    "x_te = x_test[1]\n",
    "x_te = x_te.reshape(784)\n",
    "x_te = add_shot_noise(x_te)\n",
    "re_x = vae.sess.run([vae.re_x], feed_dict={vae.x: [x_te]})[0][0]\n",
    "\n",
    "fig = plt.Figure()\n",
    "axes = fig.subplots(nrows=1, ncols=2)\n",
    "axes[0].imshow(x_te.reshape(28,28))\n",
    "axes[1].imshow(re_x.reshape(28,28))\n",
    "\n",
    "fig"
   ]
  },
  {
   "cell_type": "code",
   "execution_count": 8,
   "metadata": {},
   "outputs": [
    {
     "data": {
      "image/png": "[encoded data removed]",
      "text/plain": [
       "<Figure size 432x288 with 2 Axes>"
      ]
     },
     "execution_count": 8,
     "metadata": {},
     "output_type": "execute_result"
    }
   ],
   "source": [
    "# reconstruct a test image\n",
    "x_te = x_test[2]\n",
    "x_te = x_te.reshape(784)\n",
    "x_te = add_shot_noise(x_te)\n",
    "re_x = vae.sess.run([vae.re_x], feed_dict={vae.x: [x_te]})[0][0]\n",
    "\n",
    "fig = plt.Figure()\n",
    "axes = fig.subplots(nrows=1, ncols=2)\n",
    "axes[0].imshow(x_te.reshape(28,28))\n",
    "axes[1].imshow(re_x.reshape(28,28))\n",
    "\n",
    "fig"
   ]
  },
  {
   "cell_type": "code",
   "execution_count": 9,
   "metadata": {},
   "outputs": [
    {
     "data": {
      "image/png": "[encoded data removed]",
      "text/plain": [
       "<Figure size 432x288 with 2 Axes>"
      ]
     },
     "execution_count": 9,
     "metadata": {},
     "output_type": "execute_result"
    }
   ],
   "source": [
    "# reconstruct a test image\n",
    "x_te = x_test[3]\n",
    "x_te = x_te.reshape(784)\n",
    "x_te = add_shot_noise(x_te)\n",
    "re_x = vae.sess.run([vae.re_x], feed_dict={vae.x: [x_te]})[0][0]\n",
    "\n",
    "fig = plt.Figure()\n",
    "axes = fig.subplots(nrows=1, ncols=2)\n",
    "axes[0].imshow(x_te.reshape(28,28))\n",
    "axes[1].imshow(re_x.reshape(28,28))\n",
    "\n",
    "fig"
   ]
  },
  {
   "cell_type": "code",
   "execution_count": 10,
   "metadata": {},
   "outputs": [
    {
     "data": {
      "image/png": "[encoded data removed]",
      "text/plain": [
       "<Figure size 432x288 with 2 Axes>"
      ]
     },
     "execution_count": 10,
     "metadata": {},
     "output_type": "execute_result"
    }
   ],
   "source": [
    "# reconstruct a test image\n",
    "x_te = x_test[4]\n",
    "x_te = x_te.reshape(784)\n",
    "x_te = add_shot_noise(x_te)\n",
    "re_x = vae.sess.run([vae.re_x], feed_dict={vae.x: [x_te]})[0][0]\n",
    "\n",
    "fig = plt.Figure()\n",
    "axes = fig.subplots(nrows=1, ncols=2)\n",
    "axes[0].imshow(x_te.reshape(28,28))\n",
    "axes[1].imshow(re_x.reshape(28,28))\n",
    "\n",
    "fig"
   ]
  },
  {
   "cell_type": "code",
   "execution_count": 11,
   "metadata": {},
   "outputs": [
    {
     "data": {
      "image/png": "[encoded data removed]",
      "text/plain": [
       "<Figure size 504x504 with 100 Axes>"
      ]
     },
     "execution_count": 11,
     "metadata": {},
     "output_type": "execute_result"
    }
   ],
   "source": [
    "# samples\n",
    "fig = plt.Figure(figsize=(7,7))\n",
    "axes = fig.subplots(10,10)\n",
    "\n",
    "for i in range(10):\n",
    "    for j in range(10):\n",
    "        ax = axes[i,j]\n",
    "        \n",
    "        re_x = vae.sess.run([vae.x_sample])[0]\n",
    "        \n",
    "        ax.imshow(re_x.reshape(28,28))\n",
    "        ax.set_xticks([])\n",
    "        ax.set_xticks([], minor=True)\n",
    "        ax.set_yticks([])\n",
    "        ax.set_yticks([], minor=True)\n",
    "\n",
    "fig"
   ]
  },
  {
   "cell_type": "code",
   "execution_count": null,
   "metadata": {},
   "outputs": [],
   "source": []
  }
 ],
 "metadata": {
  "kernelspec": {
   "display_name": "Python 3",
   "language": "python",
   "name": "python3"
  },
  "language_info": {
   "codemirror_mode": {
    "name": "ipython",
    "version": 3
   },
   "file_extension": ".py",
   "mimetype": "text/x-python",
   "name": "python",
   "nbconvert_exporter": "python",
   "pygments_lexer": "ipython3",
   "version": "3.7.5"
  }
 },
 "nbformat": 4,
 "nbformat_minor": 2
}
