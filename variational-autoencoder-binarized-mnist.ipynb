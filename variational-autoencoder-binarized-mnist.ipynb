{
 "cells": [
  {
   "cell_type": "code",
   "execution_count": 1,
   "metadata": {},
   "outputs": [],
   "source": [
    "%load_ext autoreload\n",
    "%reload_ext autoreload\n",
    "%autoreload 2\n",
    "\n",
    "import os\n",
    "import sys\n",
    "import numpy as np\n",
    "from scipy import stats\n",
    "\n",
    "import matplotlib\n",
    "matplotlib.rcParams['pdf.fonttype'] = 42\n",
    "matplotlib.rcParams['ps.fonttype'] = 42\n",
    "matplotlib.rcParams['text.usetex'] = True\n",
    "matplotlib.rc('text.latex', preamble=r'\\usepackage{amsmath}\\usepackage{amssymb}')\n",
    "import matplotlib.pyplot as plt\n",
    "\n",
    "old_stdout = sys.__stdout__"
   ]
  },
  {
   "cell_type": "code",
   "execution_count": 2,
   "metadata": {},
   "outputs": [],
   "source": [
    "# dataset\n",
    "from torch.utils.data import Dataset, DataLoader\n",
    "\n",
    "class Data(Dataset):\n",
    "    def __init__(self, x, y):\n",
    "        self.x = x\n",
    "        self.y = y\n",
    "    \n",
    "    def __len__(self):\n",
    "        return len(self.y)\n",
    "    \n",
    "    def __getitem__(self, idx):\n",
    "        image = self.x[idx]\n",
    "        label = self.y[idx]\n",
    "        image = image.reshape(784)\n",
    "        return image, label\n",
    "\n",
    "def get_dataloader(x, y, batch_size, num_worker, shuffle):\n",
    "    '''Use PyTorch Dataset to enable multiprocessing to prepare data.\n",
    "    '''\n",
    "    dataset = Data(x, y)\n",
    "    \n",
    "    init_fun = np.random.seed()\n",
    "    dataloader = DataLoader(\n",
    "        dataset, \n",
    "        batch_size=batch_size,\n",
    "        shuffle=shuffle,\n",
    "        num_workers=num_worker,\n",
    "        worker_init_fn=init_fun\n",
    "    )\n",
    "    return dataloader"
   ]
  },
  {
   "cell_type": "markdown",
   "metadata": {},
   "source": [
    "Variational Auto-encoder ELBO:\n",
    "\n",
    "\\begin{align}\n",
    "& E_{q(z|x)} [\\log p(x,z) - \\log q(z|x)] \\\\\n",
    "= & E_{q(z|x)} [\\log p(x|z)] - KL[q(z|x)||p(z)] \\\\\n",
    "\\propto & - \\sum_{i=1}^N (\\hat x_i - x_i)^2 - \\sum_{i=1}^K KL(q_{z_i|x}||p(z_i))\n",
    "\\end{align}\n",
    "where $N$ and $K$ is the dimension of the input and latent variable, respectively."
   ]
  },
  {
   "cell_type": "code",
   "execution_count": 3,
   "metadata": {},
   "outputs": [],
   "source": [
    "import tensorflow as tf\n",
    "from tensorflow import keras\n",
    "from tensorflow.keras import layers\n",
    "import tensorflow_probability as tfp\n",
    "tfd = tfp.distributions\n",
    "\n",
    "from datetime import datetime\n",
    "def print_log(*args):\n",
    "    print(\"[{}]\".format(datetime.now()), *args)\n",
    "    sys.stdout.flush()\n",
    "\n",
    "class VariationalAutoEncoder:\n",
    "    def __init__(self, x_dim, z_dim, net_size, lr=0.001, kl_weight=1.0):\n",
    "        \n",
    "        # 'z_dim, activation, loss' can be tuned\n",
    "        \n",
    "        # reset the default graph otherwise the variable initialization will get\n",
    "        # slower because all models create the variables and operations in the\n",
    "        # same graph\n",
    "        tf.reset_default_graph()\n",
    "        \n",
    "        self.x_dim = x_dim\n",
    "        self.z_dim = z_dim\n",
    "        self.lr = lr\n",
    "        self.kl_weight = kl_weight\n",
    "        \n",
    "        with tf.compat.v1.variable_scope('placeholder'):\n",
    "            x_shape = [None] + [self.x_dim]\n",
    "            self.x = tf.placeholder(\n",
    "                tf.float32, \n",
    "                shape=x_shape)\n",
    "        \n",
    "        with tf.compat.v1.variable_scope('networks'):\n",
    "            self.recog = keras.Sequential(\n",
    "                [\n",
    "                    layers.Dense(net_size, activation='relu'),\n",
    "                    layers.Dense(net_size, activation='relu'),\n",
    "                    layers.Dense(net_size, activation='relu'),\n",
    "                    layers.Dense(self.z_dim*2, activation=None),\n",
    "                ]\n",
    "            )\n",
    "            self.gen = keras.Sequential(\n",
    "                [\n",
    "                    layers.Dense(net_size, activation='relu'),\n",
    "                    layers.Dense(net_size, activation='relu'),\n",
    "                    layers.Dense(net_size, activation='relu'),\n",
    "                    layers.Dense(self.x_dim, activation=None),\n",
    "                ]\n",
    "            )\n",
    "        \n",
    "        with tf.compat.v1.variable_scope('z'):\n",
    "            self.p_z = tfd.Normal(\n",
    "                loc=[0.] * self.z_dim,\n",
    "                scale=[1.] * self.z_dim,\n",
    "                name='p_z_dist')\n",
    "            \n",
    "            self.z_param = self.recog(self.x)\n",
    "            self.z_mean = self.z_param[:, :self.z_dim]\n",
    "            self.z_std = tf.math.softplus(self.z_param[:, self.z_dim:])\n",
    "\n",
    "            self.q_z = tfd.Normal(\n",
    "                loc=self.z_mean,\n",
    "                scale=self.z_std,\n",
    "                name='q_z_dist')\n",
    "            \n",
    "            self.z = self.q_z.sample()\n",
    "            \n",
    "        with tf.compat.v1.variable_scope('x'):\n",
    "            self.re_x_logit = self.gen(self.z)\n",
    "            self.p_re_x = tfd.Bernoulli(logits=self.re_x_logit, name='p_x_z_dist')\n",
    "            self.re_x = self.p_re_x.sample()\n",
    "        \n",
    "        with tf.compat.v1.variable_scope('training_loss'):\n",
    "            self.rec_error = -tf.reduce_sum(\n",
    "                self.p_re_x.log_prob(self.x), axis=-1)\n",
    "            self.kl_loss = tf.reduce_sum(tfd.kl_divergence(self.q_z, self.p_z, name='KL'), axis=-1)\n",
    "            self.nelbo = self.rec_error + self.kl_weight * self.kl_loss\n",
    "            self.ave_nelbo = tf.reduce_mean(self.nelbo)\n",
    "        \n",
    "        self.optimizer = tf.train.AdamOptimizer(\n",
    "            learning_rate=self.lr)\n",
    "        self.train_step = self.optimizer.minimize(self.ave_nelbo)\n",
    "        \n",
    "        # sample from prior\n",
    "        self.z_from_prior = self.p_z.sample()\n",
    "        self.x_sample_logit = self.gen(tf.expand_dims(self.z_from_prior, axis=0))\n",
    "        self.p_x_sample = tfd.Bernoulli(logits=self.x_sample_logit)\n",
    "        self.x_sample = self.p_x_sample.sample()\n",
    "        \n",
    "    # initialization\n",
    "    def init_session(self):\n",
    "        # Initializing the variables\n",
    "        init = tf.global_variables_initializer()\n",
    "\n",
    "        # launch a session\n",
    "        config = tf.ConfigProto()\n",
    "        config.gpu_options.allow_growth = False #True\n",
    "        self.sess = tf.Session(config=config)\n",
    "\n",
    "        self.sess.run(init)\n",
    "        \n",
    "    def train(self, tr_loader, no_epochs=500, te_loader=None):\n",
    "        costs = []\n",
    "        rec_error = []\n",
    "        kl_loss = []\n",
    "        \n",
    "        for epoch_idx in range(no_epochs):\n",
    "            epoch_cost = 0.\n",
    "            epoch_lik_cost = 0.\n",
    "            epoch_kl_cost = 0.\n",
    "            for batch_idx, tr_batch in enumerate(tr_loader):\n",
    "                tr_x, _, = tr_batch\n",
    "                _, cost, kl, rec = self.sess.run(\n",
    "                    [\n",
    "                        self.train_step,\n",
    "                        self.ave_nelbo,\n",
    "                        self.kl_loss,\n",
    "                        self.rec_error\n",
    "                    ],\n",
    "                    feed_dict={\n",
    "                        self.x: tr_x\n",
    "                    }\n",
    "                )\n",
    "                \n",
    "                epoch_cost += cost\n",
    "                epoch_lik_cost += np.mean(rec)\n",
    "                epoch_kl_cost += np.mean(kl)\n",
    "                \n",
    "                costs.append(cost)\n",
    "                rec_error.append(np.mean(rec))\n",
    "                kl_loss.append(np.mean(kl))\n",
    "                \n",
    "            batch_idx += 1\n",
    "            epoch_cost /= batch_idx\n",
    "            epoch_lik_cost /= batch_idx\n",
    "            epoch_kl_cost /= batch_idx\n",
    "            \n",
    "            print_log(\"Epoch:\", '%04d' % (epoch_idx+1), \n",
    "                \"total cost=\", \n",
    "                \"{:.9f}\".format(epoch_cost), \n",
    "                \"log-likelihood term=\", \n",
    "                \"{:.9f}\".format(epoch_lik_cost), \n",
    "                \"kl/regluarization term=\", \n",
    "                \"{:.9f}\".format(epoch_cost - epoch_lik_cost))\n",
    "            \n",
    "        return costs, rec_error, kl_loss"
   ]
  },
  {
   "cell_type": "code",
   "execution_count": 4,
   "metadata": {},
   "outputs": [
    {
     "name": "stdout",
     "output_type": "stream",
     "text": [
      "WARNING:tensorflow:From /home/aodongl1/.conda/envs/py3gpu/lib/python3.7/site-packages/tensorflow_core/python/ops/resource_variable_ops.py:1630: calling BaseResourceVariable.__init__ (from tensorflow.python.ops.resource_variable_ops) with constraint is deprecated and will be removed in a future version.\n",
      "Instructions for updating:\n",
      "If using Keras pass *_constraint arguments to layers.\n",
      "[2021-06-06 02:28:38.153020] Epoch: 0001 total cost= 173.037385928 log-likelihood term= 163.309423882 kl/regluarization term= 9.727962047\n",
      "[2021-06-06 02:28:43.141319] Epoch: 0002 total cost= 128.033909535 log-likelihood term= 114.516724511 kl/regluarization term= 13.517185024\n",
      "[2021-06-06 02:28:48.285058] Epoch: 0003 total cost= 115.805943747 log-likelihood term= 101.424759480 kl/regluarization term= 14.381184267\n",
      "[2021-06-06 02:28:53.307520] Epoch: 0004 total cost= 109.994130515 log-likelihood term= 94.649644514 kl/regluarization term= 15.344486001\n",
      "[2021-06-06 02:28:58.354750] Epoch: 0005 total cost= 105.447864028 log-likelihood term= 89.629818573 kl/regluarization term= 15.818045456\n",
      "[2021-06-06 02:29:03.557757] Epoch: 0006 total cost= 102.137975217 log-likelihood term= 85.974277138 kl/regluarization term= 16.163698078\n",
      "[2021-06-06 02:29:08.435973] Epoch: 0007 total cost= 100.026217154 log-likelihood term= 83.617677001 kl/regluarization term= 16.408540152\n",
      "[2021-06-06 02:29:13.127383] Epoch: 0008 total cost= 98.635880517 log-likelihood term= 82.044744715 kl/regluarization term= 16.591135802\n",
      "[2021-06-06 02:29:17.853312] Epoch: 0009 total cost= 97.497158173 log-likelihood term= 80.733691787 kl/regluarization term= 16.763466386\n",
      "[2021-06-06 02:29:22.515606] Epoch: 0010 total cost= 96.569898674 log-likelihood term= 79.698884179 kl/regluarization term= 16.871014495\n",
      "[2021-06-06 02:29:26.852085] Epoch: 0011 total cost= 95.795543589 log-likelihood term= 78.807193850 kl/regluarization term= 16.988349740\n",
      "[2021-06-06 02:29:31.661576] Epoch: 0012 total cost= 95.084638177 log-likelihood term= 78.003299095 kl/regluarization term= 17.081339082\n",
      "[2021-06-06 02:29:36.205953] Epoch: 0013 total cost= 94.511660334 log-likelihood term= 77.343916639 kl/regluarization term= 17.167743695\n",
      "[2021-06-06 02:29:40.824380] Epoch: 0014 total cost= 93.983348578 log-likelihood term= 76.774481108 kl/regluarization term= 17.208867470\n",
      "[2021-06-06 02:29:45.522494] Epoch: 0015 total cost= 93.506875923 log-likelihood term= 76.232669281 kl/regluarization term= 17.274206641\n",
      "[2021-06-06 02:29:50.289674] Epoch: 0016 total cost= 93.052908371 log-likelihood term= 75.713397858 kl/regluarization term= 17.339510513\n",
      "[2021-06-06 02:29:55.051210] Epoch: 0017 total cost= 92.742148881 log-likelihood term= 75.334221870 kl/regluarization term= 17.407927011\n",
      "[2021-06-06 02:29:59.624337] Epoch: 0018 total cost= 92.357462983 log-likelihood term= 74.896845791 kl/regluarization term= 17.460617192\n",
      "[2021-06-06 02:30:04.204354] Epoch: 0019 total cost= 92.026359550 log-likelihood term= 74.540014279 kl/regluarization term= 17.486345271\n",
      "[2021-06-06 02:30:08.858067] Epoch: 0020 total cost= 91.777197271 log-likelihood term= 74.241600321 kl/regluarization term= 17.535596949\n",
      "[2021-06-06 02:30:12.931416] Epoch: 0021 total cost= 91.500081036 log-likelihood term= 73.954809632 kl/regluarization term= 17.545271404\n",
      "[2021-06-06 02:30:17.404773] Epoch: 0022 total cost= 91.259578184 log-likelihood term= 73.651986946 kl/regluarization term= 17.607591239\n",
      "[2021-06-06 02:30:22.002192] Epoch: 0023 total cost= 91.036813764 log-likelihood term= 73.400229204 kl/regluarization term= 17.636584561\n",
      "[2021-06-06 02:30:26.841470] Epoch: 0024 total cost= 90.739495861 log-likelihood term= 73.046442089 kl/regluarization term= 17.693053772\n",
      "[2021-06-06 02:30:31.248754] Epoch: 0025 total cost= 90.622769663 log-likelihood term= 72.923077053 kl/regluarization term= 17.699692610\n",
      "[2021-06-06 02:30:35.765947] Epoch: 0026 total cost= 90.423548278 log-likelihood term= 72.675779725 kl/regluarization term= 17.747768553\n",
      "[2021-06-06 02:30:40.416237] Epoch: 0027 total cost= 90.182405980 log-likelihood term= 72.424971269 kl/regluarization term= 17.757434711\n",
      "[2021-06-06 02:30:45.327351] Epoch: 0028 total cost= 90.068409845 log-likelihood term= 72.299007912 kl/regluarization term= 17.769401933\n",
      "[2021-06-06 02:30:50.032491] Epoch: 0029 total cost= 89.886496001 log-likelihood term= 72.032528424 kl/regluarization term= 17.853967577\n",
      "[2021-06-06 02:30:54.654703] Epoch: 0030 total cost= 89.677405416 log-likelihood term= 71.826737687 kl/regluarization term= 17.850667730\n",
      "[2021-06-06 02:30:59.288770] Epoch: 0031 total cost= 89.527530304 log-likelihood term= 71.665244877 kl/regluarization term= 17.862285427\n",
      "[2021-06-06 02:31:03.801826] Epoch: 0032 total cost= 89.468677204 log-likelihood term= 71.580349278 kl/regluarization term= 17.888327926\n",
      "[2021-06-06 02:31:08.554338] Epoch: 0033 total cost= 89.278167936 log-likelihood term= 71.346553062 kl/regluarization term= 17.931614874\n",
      "[2021-06-06 02:31:13.106499] Epoch: 0034 total cost= 89.173896049 log-likelihood term= 71.197979461 kl/regluarization term= 17.975916588\n",
      "[2021-06-06 02:31:17.699968] Epoch: 0035 total cost= 88.986907447 log-likelihood term= 71.052155001 kl/regluarization term= 17.934752446\n",
      "[2021-06-06 02:31:22.573334] Epoch: 0036 total cost= 88.924910865 log-likelihood term= 70.956994913 kl/regluarization term= 17.967915952\n",
      "[2021-06-06 02:31:27.354694] Epoch: 0037 total cost= 88.794608183 log-likelihood term= 70.808631039 kl/regluarization term= 17.985977144\n",
      "[2021-06-06 02:31:32.019257] Epoch: 0038 total cost= 88.652784400 log-likelihood term= 70.646295381 kl/regluarization term= 18.006489020\n",
      "[2021-06-06 02:31:36.472149] Epoch: 0039 total cost= 88.570396187 log-likelihood term= 70.530023831 kl/regluarization term= 18.040372356\n",
      "[2021-06-06 02:31:41.177026] Epoch: 0040 total cost= 88.469371104 log-likelihood term= 70.436054401 kl/regluarization term= 18.033316704\n",
      "[2021-06-06 02:31:45.790195] Epoch: 0041 total cost= 88.437816709 log-likelihood term= 70.361929436 kl/regluarization term= 18.075887273\n",
      "[2021-06-06 02:31:50.431411] Epoch: 0042 total cost= 88.250372734 log-likelihood term= 70.203117273 kl/regluarization term= 18.047255461\n",
      "[2021-06-06 02:31:54.947371] Epoch: 0043 total cost= 88.203213600 log-likelihood term= 70.109576357 kl/regluarization term= 18.093637243\n",
      "[2021-06-06 02:31:59.198333] Epoch: 0044 total cost= 88.040557723 log-likelihood term= 69.920669344 kl/regluarization term= 18.119888379\n",
      "[2021-06-06 02:32:03.896948] Epoch: 0045 total cost= 87.954462234 log-likelihood term= 69.857244117 kl/regluarization term= 18.097218117\n",
      "[2021-06-06 02:32:08.448634] Epoch: 0046 total cost= 87.904545937 log-likelihood term= 69.752592221 kl/regluarization term= 18.151953716\n",
      "[2021-06-06 02:32:13.181314] Epoch: 0047 total cost= 87.774117988 log-likelihood term= 69.630376710 kl/regluarization term= 18.143741278\n",
      "[2021-06-06 02:32:17.769142] Epoch: 0048 total cost= 87.685952575 log-likelihood term= 69.529235962 kl/regluarization term= 18.156716613\n",
      "[2021-06-06 02:32:22.148238] Epoch: 0049 total cost= 87.599411954 log-likelihood term= 69.439936026 kl/regluarization term= 18.159475928\n",
      "[2021-06-06 02:32:26.768059] Epoch: 0050 total cost= 87.594019680 log-likelihood term= 69.392949407 kl/regluarization term= 18.201070273\n"
     ]
    }
   ],
   "source": [
    "mini_batchsize = 64\n",
    "no_epochs = 50\n",
    "lr = 0.001\n",
    "z_dim = 100\n",
    "net_size = 200\n",
    "\n",
    "# data\n",
    "(x_train, y_train), (x_test, y_test) = \\\n",
    "    tf.keras.datasets.mnist.load_data()\n",
    "x_train = x_train.astype('float32')\n",
    "y_train = np.squeeze(y_train)\n",
    "x_test = x_test.astype('float32')\n",
    "y_test = np.squeeze(y_test)\n",
    "x_train /= 255\n",
    "x_test /= 255\n",
    "x_train = (x_train > 0.5).astype(np.float32)\n",
    "x_test = (x_test > 0.5).astype(np.float32)\n",
    "\n",
    "mnist_tr_loader = get_dataloader(x_train, y_train, mini_batchsize, 4, True)\n",
    "\n",
    "# model\n",
    "vae = VariationalAutoEncoder(x_dim=784, z_dim=z_dim, net_size=net_size, lr=lr)\n",
    "vae.init_session()\n",
    "\n",
    "# train\n",
    "costs, rec_error, kl_loss = vae.train(mnist_tr_loader, no_epochs=no_epochs)"
   ]
  },
  {
   "cell_type": "code",
   "execution_count": 5,
   "metadata": {},
   "outputs": [
    {
     "name": "stderr",
     "output_type": "stream",
     "text": [
      "/home/aodongl1/.conda/envs/py3gpu/lib/python3.7/site-packages/ipykernel_launcher.py:19: UserWarning: tight_layout : falling back to Agg renderer\n"
     ]
    },
    {
     "data": {
      "image/png": "[encoded data removed]",
      "text/plain": [
       "<Figure size 360x360 with 3 Axes>"
      ]
     },
     "execution_count": 5,
     "metadata": {},
     "output_type": "execute_result"
    }
   ],
   "source": [
    "fig = plt.Figure(figsize=[5,5])\n",
    "axes = fig.subplots(3,1)\n",
    "\n",
    "ax = axes[0]\n",
    "ax.plot(costs)\n",
    "ax.set_xlabel('Iteration')\n",
    "ax.set_ylabel('NELBO')\n",
    "\n",
    "ax = axes[1]\n",
    "ax.plot(rec_error)\n",
    "ax.set_xlabel('Iteration')\n",
    "ax.set_ylabel('REC Loss')\n",
    "\n",
    "ax = axes[2]\n",
    "ax.plot(kl_loss)\n",
    "ax.set_xlabel('Iteration')\n",
    "ax.set_ylabel('KL Loss')\n",
    "\n",
    "fig.tight_layout()\n",
    "fig"
   ]
  },
  {
   "cell_type": "code",
   "execution_count": 6,
   "metadata": {},
   "outputs": [
    {
     "data": {
      "image/png": "[encoded data removed]",
      "text/plain": [
       "<Figure size 432x288 with 2 Axes>"
      ]
     },
     "execution_count": 6,
     "metadata": {},
     "output_type": "execute_result"
    }
   ],
   "source": [
    "# reconstruct a test image\n",
    "x_te = x_test[0]\n",
    "x_te = x_te.reshape(784)\n",
    "re_x = vae.sess.run([vae.re_x], feed_dict={vae.x: [x_te]})[0][0]\n",
    "\n",
    "fig = plt.Figure()\n",
    "axes = fig.subplots(nrows=1, ncols=2)\n",
    "axes[0].imshow(x_te.reshape(28,28))\n",
    "axes[1].imshow(re_x.reshape(28,28))\n",
    "\n",
    "fig"
   ]
  },
  {
   "cell_type": "code",
   "execution_count": 7,
   "metadata": {},
   "outputs": [
    {
     "data": {
      "image/png": "[encoded data removed]",
      "text/plain": [
       "<Figure size 432x288 with 2 Axes>"
      ]
     },
     "execution_count": 7,
     "metadata": {},
     "output_type": "execute_result"
    }
   ],
   "source": [
    "# reconstruct a test image\n",
    "x_te = x_test[1]\n",
    "x_te = x_te.reshape(784)\n",
    "re_x = vae.sess.run([vae.re_x], feed_dict={vae.x: [x_te]})[0][0]\n",
    "\n",
    "fig = plt.Figure()\n",
    "axes = fig.subplots(nrows=1, ncols=2)\n",
    "axes[0].imshow(x_te.reshape(28,28))\n",
    "axes[1].imshow(re_x.reshape(28,28))\n",
    "\n",
    "fig"
   ]
  },
  {
   "cell_type": "code",
   "execution_count": 8,
   "metadata": {},
   "outputs": [
    {
     "data": {
      "image/png": "[encoded data removed]",
      "text/plain": [
       "<Figure size 432x288 with 2 Axes>"
      ]
     },
     "execution_count": 8,
     "metadata": {},
     "output_type": "execute_result"
    }
   ],
   "source": [
    "# reconstruct a test image\n",
    "x_te = x_test[2]\n",
    "x_te = x_te.reshape(784)\n",
    "re_x = vae.sess.run([vae.re_x], feed_dict={vae.x: [x_te]})[0][0]\n",
    "\n",
    "fig = plt.Figure()\n",
    "axes = fig.subplots(nrows=1, ncols=2)\n",
    "axes[0].imshow(x_te.reshape(28,28))\n",
    "axes[1].imshow(re_x.reshape(28,28))\n",
    "\n",
    "fig"
   ]
  },
  {
   "cell_type": "code",
   "execution_count": 9,
   "metadata": {},
   "outputs": [
    {
     "data": {
      "image/png": "[encoded data removed]",
      "text/plain": [
       "<Figure size 432x288 with 2 Axes>"
      ]
     },
     "execution_count": 9,
     "metadata": {},
     "output_type": "execute_result"
    }
   ],
   "source": [
    "# reconstruct a test image\n",
    "x_te = x_test[3]\n",
    "x_te = x_te.reshape(784)\n",
    "re_x = vae.sess.run([vae.re_x], feed_dict={vae.x: [x_te]})[0][0]\n",
    "\n",
    "fig = plt.Figure()\n",
    "axes = fig.subplots(nrows=1, ncols=2)\n",
    "axes[0].imshow(x_te.reshape(28,28))\n",
    "axes[1].imshow(re_x.reshape(28,28))\n",
    "\n",
    "fig"
   ]
  },
  {
   "cell_type": "code",
   "execution_count": 10,
   "metadata": {},
   "outputs": [
    {
     "data": {
      "image/png": "[encoded data removed]",
      "text/plain": [
       "<Figure size 432x288 with 2 Axes>"
      ]
     },
     "execution_count": 10,
     "metadata": {},
     "output_type": "execute_result"
    }
   ],
   "source": [
    "# reconstruct a test image\n",
    "x_te = x_test[4]\n",
    "x_te = x_te.reshape(784)\n",
    "re_x = vae.sess.run([vae.re_x], feed_dict={vae.x: [x_te]})[0][0]\n",
    "\n",
    "fig = plt.Figure()\n",
    "axes = fig.subplots(nrows=1, ncols=2)\n",
    "axes[0].imshow(x_te.reshape(28,28))\n",
    "axes[1].imshow(re_x.reshape(28,28))\n",
    "\n",
    "fig"
   ]
  },
  {
   "cell_type": "code",
   "execution_count": 11,
   "metadata": {},
   "outputs": [
    {
     "data": {
      "image/png": "[encoded data removed]",
      "text/plain": [
       "<Figure size 504x504 with 100 Axes>"
      ]
     },
     "execution_count": 11,
     "metadata": {},
     "output_type": "execute_result"
    }
   ],
   "source": [
    "# samples\n",
    "fig = plt.Figure(figsize=(7,7))\n",
    "axes = fig.subplots(10,10)\n",
    "\n",
    "for i in range(10):\n",
    "    for j in range(10):\n",
    "        ax = axes[i,j]\n",
    "        \n",
    "        re_x = vae.sess.run([vae.x_sample])[0]\n",
    "        \n",
    "        ax.imshow(re_x.reshape(28,28))\n",
    "        ax.set_xticks([])\n",
    "        ax.set_xticks([], minor=True)\n",
    "        ax.set_yticks([])\n",
    "        ax.set_yticks([], minor=True)\n",
    "\n",
    "fig"
   ]
  },
  {
   "cell_type": "code",
   "execution_count": null,
   "metadata": {},
   "outputs": [],
   "source": []
  }
 ],
 "metadata": {
  "kernelspec": {
   "display_name": "Python 3",
   "language": "python",
   "name": "python3"
  },
  "language_info": {
   "codemirror_mode": {
    "name": "ipython",
    "version": 3
   },
   "file_extension": ".py",
   "mimetype": "text/x-python",
   "name": "python",
   "nbconvert_exporter": "python",
   "pygments_lexer": "ipython3",
   "version": "3.7.5"
  }
 },
 "nbformat": 4,
 "nbformat_minor": 2
}
