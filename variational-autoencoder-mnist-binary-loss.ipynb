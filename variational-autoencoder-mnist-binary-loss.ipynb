{
 "cells": [
  {
   "cell_type": "code",
   "execution_count": 1,
   "metadata": {},
   "outputs": [],
   "source": [
    "%load_ext autoreload\n",
    "%reload_ext autoreload\n",
    "%autoreload 2\n",
    "\n",
    "import os\n",
    "import sys\n",
    "import numpy as np\n",
    "from scipy import stats\n",
    "\n",
    "import matplotlib\n",
    "matplotlib.rcParams['pdf.fonttype'] = 42\n",
    "matplotlib.rcParams['ps.fonttype'] = 42\n",
    "matplotlib.rcParams['text.usetex'] = True\n",
    "matplotlib.rc('text.latex', preamble=r'\\usepackage{amsmath}\\usepackage{amssymb}')\n",
    "import matplotlib.pyplot as plt\n",
    "\n",
    "old_stdout = sys.__stdout__"
   ]
  },
  {
   "cell_type": "code",
   "execution_count": 2,
   "metadata": {},
   "outputs": [],
   "source": [
    "# dataset\n",
    "from torch.utils.data import Dataset, DataLoader\n",
    "\n",
    "class Data(Dataset):\n",
    "    def __init__(self, x, y):\n",
    "        self.x = x\n",
    "        self.y = y\n",
    "    \n",
    "    def __len__(self):\n",
    "        return len(self.y)\n",
    "    \n",
    "    def __getitem__(self, idx):\n",
    "        image = self.x[idx]\n",
    "        label = self.y[idx]\n",
    "        image = image.reshape(784)\n",
    "        return image, label\n",
    "\n",
    "def get_dataloader(x, y, batch_size, num_worker, shuffle):\n",
    "    '''Use PyTorch Dataset to enable multiprocessing to prepare data.\n",
    "    '''\n",
    "    dataset = Data(x, y)\n",
    "    \n",
    "    init_fun = np.random.seed()\n",
    "    dataloader = DataLoader(\n",
    "        dataset, \n",
    "        batch_size=batch_size,\n",
    "        shuffle=shuffle,\n",
    "        num_workers=num_worker,\n",
    "        worker_init_fn=init_fun\n",
    "    )\n",
    "    return dataloader"
   ]
  },
  {
   "cell_type": "markdown",
   "metadata": {},
   "source": [
    "Variational Auto-encoder ELBO:\n",
    "\n",
    "\\begin{align}\n",
    "& E_{q(z|x)} [\\log p(x,z) - \\log q(z|x)] \\\\\n",
    "= & E_{q(z|x)} [\\log p(x|z)] - KL[q(z|x)||p(z)] \\\\\n",
    "\\propto & - \\sum_{i=1}^N (\\hat x_i - x_i)^2 - \\sum_{i=1}^K KL(q_{z_i|x}||p(z_i))\n",
    "\\end{align}\n",
    "where $N$ and $K$ is the dimension of the input and latent variable, respectively."
   ]
  },
  {
   "cell_type": "code",
   "execution_count": 3,
   "metadata": {},
   "outputs": [],
   "source": [
    "import tensorflow as tf\n",
    "from tensorflow import keras\n",
    "from tensorflow.keras import layers\n",
    "import tensorflow_probability as tfp\n",
    "tfd = tfp.distributions\n",
    "\n",
    "from datetime import datetime\n",
    "def print_log(*args):\n",
    "    print(\"[{}]\".format(datetime.now()), *args)\n",
    "    sys.stdout.flush()\n",
    "\n",
    "class VariationalAutoEncoder:\n",
    "    def __init__(self, x_dim, z_dim, net_size, lr=0.001, kl_weight=1.0):\n",
    "        \n",
    "        # 'z_dim, activation, loss' can be tuned\n",
    "        \n",
    "        # reset the default graph otherwise the variable initialization will get\n",
    "        # slower because all models create the variables and operations in the\n",
    "        # same graph\n",
    "        tf.reset_default_graph()\n",
    "        \n",
    "        self.x_dim = x_dim\n",
    "        self.z_dim = z_dim\n",
    "        self.lr = lr\n",
    "        self.kl_weight = kl_weight\n",
    "        \n",
    "        with tf.compat.v1.variable_scope('placeholder'):\n",
    "            x_shape = [None] + [self.x_dim]\n",
    "            self.x = tf.placeholder(\n",
    "                tf.float32, \n",
    "                shape=x_shape)\n",
    "        \n",
    "        with tf.compat.v1.variable_scope('networks'):\n",
    "            self.recog = keras.Sequential(\n",
    "                [\n",
    "                    layers.Dense(net_size, activation='relu'),\n",
    "                    layers.Dense(net_size, activation='relu'),\n",
    "                    layers.Dense(net_size, activation='relu'),\n",
    "                    layers.Dense(self.z_dim*2, activation=None),\n",
    "                ]\n",
    "            )\n",
    "            self.gen = keras.Sequential(\n",
    "                [\n",
    "                    layers.Dense(net_size, activation='relu'),\n",
    "                    layers.Dense(net_size, activation='relu'),\n",
    "                    layers.Dense(net_size, activation='relu'),\n",
    "                    layers.Dense(self.x_dim, activation=None),\n",
    "                ]\n",
    "            )\n",
    "        \n",
    "        with tf.compat.v1.variable_scope('z'):\n",
    "            self.p_z = tfd.Normal(\n",
    "                loc=[0.] * self.z_dim,\n",
    "                scale=[1.] * self.z_dim,\n",
    "                name='p_z_dist')\n",
    "            \n",
    "            self.z_param = self.recog(self.x)\n",
    "            self.z_mean = self.z_param[:, :self.z_dim]\n",
    "            self.z_std = tf.math.softplus(self.z_param[:, self.z_dim:])\n",
    "\n",
    "            self.q_z = tfd.Normal(\n",
    "                loc=self.z_mean,\n",
    "                scale=self.z_std,\n",
    "                name='q_z_dist')\n",
    "            \n",
    "            self.z = self.q_z.sample()\n",
    "            \n",
    "        with tf.compat.v1.variable_scope('x'):\n",
    "            self.re_x_logit = self.gen(self.z)\n",
    "            self.p_re_x = tfd.Bernoulli(logits=self.re_x_logit, name='p_x_z_dist')\n",
    "            self.re_x = self.p_re_x.sample()\n",
    "        \n",
    "        with tf.compat.v1.variable_scope('training_loss'):\n",
    "            self.rec_error = -tf.reduce_sum(\n",
    "                self.p_re_x.log_prob(self.x), axis=-1)\n",
    "            self.kl_loss = tf.reduce_sum(tfd.kl_divergence(self.q_z, self.p_z, name='KL'), axis=-1)\n",
    "            self.nelbo = self.rec_error + self.kl_weight * self.kl_loss\n",
    "            self.ave_nelbo = tf.reduce_mean(self.nelbo)\n",
    "        \n",
    "        self.optimizer = tf.train.AdamOptimizer(\n",
    "            learning_rate=self.lr)\n",
    "        self.train_step = self.optimizer.minimize(self.ave_nelbo)\n",
    "        \n",
    "        # sample from prior\n",
    "        self.z_from_prior = self.p_z.sample()\n",
    "        self.x_sample_logit = self.gen(tf.expand_dims(self.z_from_prior, axis=0))\n",
    "        self.p_x_sample = tfd.Bernoulli(logits=self.x_sample_logit)\n",
    "        self.x_sample = self.p_x_sample.sample()\n",
    "        \n",
    "    # initialization\n",
    "    def init_session(self):\n",
    "        # Initializing the variables\n",
    "        init = tf.global_variables_initializer()\n",
    "\n",
    "        # launch a session\n",
    "        config = tf.ConfigProto()\n",
    "        config.gpu_options.allow_growth = False #True\n",
    "        self.sess = tf.Session(config=config)\n",
    "\n",
    "        self.sess.run(init)\n",
    "        \n",
    "    def train(self, tr_loader, no_epochs=500, te_loader=None):\n",
    "        costs = []\n",
    "        rec_error = []\n",
    "        kl_loss = []\n",
    "        \n",
    "        for epoch_idx in range(no_epochs):\n",
    "            epoch_cost = 0.\n",
    "            epoch_lik_cost = 0.\n",
    "            epoch_kl_cost = 0.\n",
    "            for batch_idx, tr_batch in enumerate(tr_loader):\n",
    "                tr_x, _, = tr_batch\n",
    "                _, cost, kl, rec = self.sess.run(\n",
    "                    [\n",
    "                        self.train_step,\n",
    "                        self.ave_nelbo,\n",
    "                        self.kl_loss,\n",
    "                        self.rec_error\n",
    "                    ],\n",
    "                    feed_dict={\n",
    "                        self.x: tr_x\n",
    "                    }\n",
    "                )\n",
    "                \n",
    "                epoch_cost += cost\n",
    "                epoch_lik_cost += np.mean(rec)\n",
    "                epoch_kl_cost += np.mean(kl)\n",
    "                \n",
    "                costs.append(cost)\n",
    "                rec_error.append(np.mean(rec))\n",
    "                kl_loss.append(np.mean(kl))\n",
    "                \n",
    "            batch_idx += 1\n",
    "            epoch_cost /= batch_idx\n",
    "            epoch_lik_cost /= batch_idx\n",
    "            epoch_kl_cost /= batch_idx\n",
    "            \n",
    "            print_log(\"Epoch:\", '%04d' % (epoch_idx+1), \n",
    "                \"total cost=\", \n",
    "                \"{:.9f}\".format(epoch_cost), \n",
    "                \"log-likelihood term=\", \n",
    "                \"{:.9f}\".format(epoch_lik_cost), \n",
    "                \"kl/regluarization term=\", \n",
    "                \"{:.9f}\".format(epoch_cost - epoch_lik_cost))\n",
    "            \n",
    "        return costs, rec_error, kl_loss"
   ]
  },
  {
   "cell_type": "code",
   "execution_count": 4,
   "metadata": {},
   "outputs": [
    {
     "name": "stdout",
     "output_type": "stream",
     "text": [
      "WARNING:tensorflow:From /home/aodongl1/.conda/envs/py3gpu/lib/python3.7/site-packages/tensorflow_core/python/ops/resource_variable_ops.py:1630: calling BaseResourceVariable.__init__ (from tensorflow.python.ops.resource_variable_ops) with constraint is deprecated and will be removed in a future version.\n",
      "Instructions for updating:\n",
      "If using Keras pass *_constraint arguments to layers.\n",
      "[2021-06-06 02:36:47.697521] Epoch: 0001 total cost= 175.105924968 log-likelihood term= 165.884314189 kl/regluarization term= 9.221610779\n",
      "[2021-06-06 02:36:52.116744] Epoch: 0002 total cost= 134.232101579 log-likelihood term= 121.299690783 kl/regluarization term= 12.932410795\n",
      "[2021-06-06 02:36:56.658479] Epoch: 0003 total cost= 123.730566932 log-likelihood term= 110.453554467 kl/regluarization term= 13.277012465\n",
      "[2021-06-06 02:37:01.378782] Epoch: 0004 total cost= 120.083591429 log-likelihood term= 106.431041417 kl/regluarization term= 13.652550012\n",
      "[2021-06-06 02:37:06.176513] Epoch: 0005 total cost= 117.861793949 log-likelihood term= 103.953698563 kl/regluarization term= 13.908095386\n",
      "[2021-06-06 02:37:11.017699] Epoch: 0006 total cost= 116.220732073 log-likelihood term= 101.988637424 kl/regluarization term= 14.232094649\n",
      "[2021-06-06 02:37:15.673467] Epoch: 0007 total cost= 114.784014712 log-likelihood term= 100.204980000 kl/regluarization term= 14.579034712\n",
      "[2021-06-06 02:37:20.289734] Epoch: 0008 total cost= 113.651221521 log-likelihood term= 98.855372699 kl/regluarization term= 14.795848822\n",
      "[2021-06-06 02:37:24.836338] Epoch: 0009 total cost= 112.708262576 log-likelihood term= 97.677243076 kl/regluarization term= 15.031019500\n",
      "[2021-06-06 02:37:29.441848] Epoch: 0010 total cost= 111.655860039 log-likelihood term= 96.431775335 kl/regluarization term= 15.224084704\n",
      "[2021-06-06 02:37:33.853744] Epoch: 0011 total cost= 110.474609643 log-likelihood term= 95.091588254 kl/regluarization term= 15.383021389\n",
      "[2021-06-06 02:37:38.361544] Epoch: 0012 total cost= 109.814192237 log-likelihood term= 94.316234613 kl/regluarization term= 15.497957624\n",
      "[2021-06-06 02:37:42.931592] Epoch: 0013 total cost= 109.233193013 log-likelihood term= 93.664581136 kl/regluarization term= 15.568611877\n",
      "[2021-06-06 02:37:47.452594] Epoch: 0014 total cost= 108.753110516 log-likelihood term= 93.092290093 kl/regluarization term= 15.660820422\n",
      "[2021-06-06 02:37:52.106292] Epoch: 0015 total cost= 108.365022135 log-likelihood term= 92.634554499 kl/regluarization term= 15.730467636\n",
      "[2021-06-06 02:37:56.774664] Epoch: 0016 total cost= 107.959476796 log-likelihood term= 92.184505633 kl/regluarization term= 15.774971163\n",
      "[2021-06-06 02:38:01.508952] Epoch: 0017 total cost= 107.667813372 log-likelihood term= 91.850171055 kl/regluarization term= 15.817642318\n",
      "[2021-06-06 02:38:06.224071] Epoch: 0018 total cost= 107.434192080 log-likelihood term= 91.573066516 kl/regluarization term= 15.861125564\n",
      "[2021-06-06 02:38:10.955723] Epoch: 0019 total cost= 107.042911879 log-likelihood term= 91.160829898 kl/regluarization term= 15.882081981\n",
      "[2021-06-06 02:38:15.693643] Epoch: 0020 total cost= 106.874318885 log-likelihood term= 90.940240002 kl/regluarization term= 15.934078884\n",
      "[2021-06-06 02:38:20.453322] Epoch: 0021 total cost= 106.601159541 log-likelihood term= 90.623872273 kl/regluarization term= 15.977287268\n",
      "[2021-06-06 02:38:25.137718] Epoch: 0022 total cost= 106.472757400 log-likelihood term= 90.456906178 kl/regluarization term= 16.015851222\n",
      "[2021-06-06 02:38:29.826082] Epoch: 0023 total cost= 106.227427582 log-likelihood term= 90.203416845 kl/regluarization term= 16.024010738\n",
      "[2021-06-06 02:38:34.230355] Epoch: 0024 total cost= 106.103899299 log-likelihood term= 90.056650036 kl/regluarization term= 16.047249263\n",
      "[2021-06-06 02:38:38.827778] Epoch: 0025 total cost= 105.876006275 log-likelihood term= 89.797237567 kl/regluarization term= 16.078768708\n",
      "[2021-06-06 02:38:43.701385] Epoch: 0026 total cost= 105.747592438 log-likelihood term= 89.647144448 kl/regluarization term= 16.100447990\n",
      "[2021-06-06 02:38:48.204725] Epoch: 0027 total cost= 105.623394175 log-likelihood term= 89.510852830 kl/regluarization term= 16.112541345\n",
      "[2021-06-06 02:38:52.862671] Epoch: 0028 total cost= 105.501395781 log-likelihood term= 89.347086892 kl/regluarization term= 16.154308888\n",
      "[2021-06-06 02:38:57.588830] Epoch: 0029 total cost= 105.324828719 log-likelihood term= 89.153019927 kl/regluarization term= 16.171808792\n",
      "[2021-06-06 02:39:02.218227] Epoch: 0030 total cost= 105.185539433 log-likelihood term= 88.988958761 kl/regluarization term= 16.196580671\n",
      "[2021-06-06 02:39:06.846069] Epoch: 0031 total cost= 105.047988298 log-likelihood term= 88.853412913 kl/regluarization term= 16.194575385\n",
      "[2021-06-06 02:39:11.375186] Epoch: 0032 total cost= 104.970872729 log-likelihood term= 88.727624946 kl/regluarization term= 16.243247782\n",
      "[2021-06-06 02:39:15.889186] Epoch: 0033 total cost= 104.812062449 log-likelihood term= 88.563831964 kl/regluarization term= 16.248230485\n",
      "[2021-06-06 02:39:20.629309] Epoch: 0034 total cost= 104.756776082 log-likelihood term= 88.501142612 kl/regluarization term= 16.255633470\n",
      "[2021-06-06 02:39:25.300146] Epoch: 0035 total cost= 104.678471344 log-likelihood term= 88.415154414 kl/regluarization term= 16.263316929\n",
      "[2021-06-06 02:39:30.037651] Epoch: 0036 total cost= 104.517302954 log-likelihood term= 88.245027164 kl/regluarization term= 16.272275790\n",
      "[2021-06-06 02:39:34.454274] Epoch: 0037 total cost= 104.391625264 log-likelihood term= 88.103551641 kl/regluarization term= 16.288073623\n",
      "[2021-06-06 02:39:38.943157] Epoch: 0038 total cost= 104.343554385 log-likelihood term= 88.041844350 kl/regluarization term= 16.301710035\n",
      "[2021-06-06 02:39:43.583820] Epoch: 0039 total cost= 104.263913185 log-likelihood term= 87.957089495 kl/regluarization term= 16.306823690\n",
      "[2021-06-06 02:39:48.191205] Epoch: 0040 total cost= 104.147299801 log-likelihood term= 87.830280564 kl/regluarization term= 16.317019237\n",
      "[2021-06-06 02:39:53.162494] Epoch: 0041 total cost= 104.061853787 log-likelihood term= 87.716354354 kl/regluarization term= 16.345499433\n",
      "[2021-06-06 02:39:57.859950] Epoch: 0042 total cost= 104.036238965 log-likelihood term= 87.684151591 kl/regluarization term= 16.352087375\n",
      "[2021-06-06 02:40:02.392339] Epoch: 0043 total cost= 103.956899484 log-likelihood term= 87.568204493 kl/regluarization term= 16.388694991\n",
      "[2021-06-06 02:40:06.977190] Epoch: 0044 total cost= 103.807438059 log-likelihood term= 87.428584743 kl/regluarization term= 16.378853316\n",
      "[2021-06-06 02:40:11.558176] Epoch: 0045 total cost= 103.767125258 log-likelihood term= 87.387800758 kl/regluarization term= 16.379324500\n",
      "[2021-06-06 02:40:16.072810] Epoch: 0046 total cost= 103.725661133 log-likelihood term= 87.320072377 kl/regluarization term= 16.405588756\n",
      "[2021-06-06 02:40:20.780256] Epoch: 0047 total cost= 103.611926642 log-likelihood term= 87.199886631 kl/regluarization term= 16.412040011\n",
      "[2021-06-06 02:40:25.644963] Epoch: 0048 total cost= 103.581825508 log-likelihood term= 87.155463969 kl/regluarization term= 16.426361539\n",
      "[2021-06-06 02:40:30.243665] Epoch: 0049 total cost= 103.512623142 log-likelihood term= 87.086486947 kl/regluarization term= 16.426136196\n",
      "[2021-06-06 02:40:34.973038] Epoch: 0050 total cost= 103.472938985 log-likelihood term= 87.025890724 kl/regluarization term= 16.447048260\n"
     ]
    }
   ],
   "source": [
    "mini_batchsize = 64\n",
    "no_epochs = 50\n",
    "lr = 0.001\n",
    "z_dim = 100\n",
    "net_size = 200\n",
    "\n",
    "# data\n",
    "(x_train, y_train), (x_test, y_test) = \\\n",
    "    tf.keras.datasets.mnist.load_data()\n",
    "x_train = x_train.astype('float32')\n",
    "y_train = np.squeeze(y_train)\n",
    "x_test = x_test.astype('float32')\n",
    "y_test = np.squeeze(y_test)\n",
    "x_train /= 255\n",
    "x_test /= 255\n",
    "\n",
    "mnist_tr_loader = get_dataloader(x_train, y_train, mini_batchsize, 4, True)\n",
    "\n",
    "# model\n",
    "vae = VariationalAutoEncoder(x_dim=784, z_dim=z_dim, net_size=net_size, lr=lr)\n",
    "vae.init_session()\n",
    "\n",
    "# train\n",
    "costs, rec_error, kl_loss = vae.train(mnist_tr_loader, no_epochs=no_epochs)"
   ]
  },
  {
   "cell_type": "code",
   "execution_count": 5,
   "metadata": {},
   "outputs": [
    {
     "name": "stderr",
     "output_type": "stream",
     "text": [
      "/home/aodongl1/.conda/envs/py3gpu/lib/python3.7/site-packages/ipykernel_launcher.py:19: UserWarning: tight_layout : falling back to Agg renderer\n"
     ]
    },
    {
     "data": {
      "image/png": "[encoded data removed]",
      "text/plain": [
       "<Figure size 360x360 with 3 Axes>"
      ]
     },
     "execution_count": 5,
     "metadata": {},
     "output_type": "execute_result"
    }
   ],
   "source": [
    "fig = plt.Figure(figsize=[5,5])\n",
    "axes = fig.subplots(3,1)\n",
    "\n",
    "ax = axes[0]\n",
    "ax.plot(costs)\n",
    "ax.set_xlabel('Iteration')\n",
    "ax.set_ylabel('NELBO')\n",
    "\n",
    "ax = axes[1]\n",
    "ax.plot(rec_error)\n",
    "ax.set_xlabel('Iteration')\n",
    "ax.set_ylabel('REC Loss')\n",
    "\n",
    "ax = axes[2]\n",
    "ax.plot(kl_loss)\n",
    "ax.set_xlabel('Iteration')\n",
    "ax.set_ylabel('KL Loss')\n",
    "\n",
    "fig.tight_layout()\n",
    "fig"
   ]
  },
  {
   "cell_type": "code",
   "execution_count": 6,
   "metadata": {},
   "outputs": [
    {
     "data": {
      "image/png": "[encoded data removed]",
      "text/plain": [
       "<Figure size 432x288 with 2 Axes>"
      ]
     },
     "execution_count": 6,
     "metadata": {},
     "output_type": "execute_result"
    }
   ],
   "source": [
    "# reconstruct a test image\n",
    "x_te = x_test[0]\n",
    "x_te = x_te.reshape(784)\n",
    "re_x = vae.sess.run([vae.re_x], feed_dict={vae.x: [x_te]})[0][0]\n",
    "\n",
    "fig = plt.Figure()\n",
    "axes = fig.subplots(nrows=1, ncols=2)\n",
    "axes[0].imshow(x_te.reshape(28,28))\n",
    "axes[1].imshow(re_x.reshape(28,28))\n",
    "\n",
    "fig"
   ]
  },
  {
   "cell_type": "code",
   "execution_count": 7,
   "metadata": {},
   "outputs": [
    {
     "data": {
      "image/png": "[encoded data removed]",
      "text/plain": [
       "<Figure size 432x288 with 2 Axes>"
      ]
     },
     "execution_count": 7,
     "metadata": {},
     "output_type": "execute_result"
    }
   ],
   "source": [
    "# reconstruct a test image\n",
    "x_te = x_test[1]\n",
    "x_te = x_te.reshape(784)\n",
    "re_x = vae.sess.run([vae.re_x], feed_dict={vae.x: [x_te]})[0][0]\n",
    "\n",
    "fig = plt.Figure()\n",
    "axes = fig.subplots(nrows=1, ncols=2)\n",
    "axes[0].imshow(x_te.reshape(28,28))\n",
    "axes[1].imshow(re_x.reshape(28,28))\n",
    "\n",
    "fig"
   ]
  },
  {
   "cell_type": "code",
   "execution_count": 8,
   "metadata": {},
   "outputs": [
    {
     "data": {
      "image/png": "[encoded data removed]",
      "text/plain": [
       "<Figure size 432x288 with 2 Axes>"
      ]
     },
     "execution_count": 8,
     "metadata": {},
     "output_type": "execute_result"
    }
   ],
   "source": [
    "# reconstruct a test image\n",
    "x_te = x_test[2]\n",
    "x_te = x_te.reshape(784)\n",
    "re_x = vae.sess.run([vae.re_x], feed_dict={vae.x: [x_te]})[0][0]\n",
    "\n",
    "fig = plt.Figure()\n",
    "axes = fig.subplots(nrows=1, ncols=2)\n",
    "axes[0].imshow(x_te.reshape(28,28))\n",
    "axes[1].imshow(re_x.reshape(28,28))\n",
    "\n",
    "fig"
   ]
  },
  {
   "cell_type": "code",
   "execution_count": 9,
   "metadata": {},
   "outputs": [
    {
     "data": {
      "image/png": "[encoded data removed]",
      "text/plain": [
       "<Figure size 432x288 with 2 Axes>"
      ]
     },
     "execution_count": 9,
     "metadata": {},
     "output_type": "execute_result"
    }
   ],
   "source": [
    "# reconstruct a test image\n",
    "x_te = x_test[3]\n",
    "x_te = x_te.reshape(784)\n",
    "re_x = vae.sess.run([vae.re_x], feed_dict={vae.x: [x_te]})[0][0]\n",
    "\n",
    "fig = plt.Figure()\n",
    "axes = fig.subplots(nrows=1, ncols=2)\n",
    "axes[0].imshow(x_te.reshape(28,28))\n",
    "axes[1].imshow(re_x.reshape(28,28))\n",
    "\n",
    "fig"
   ]
  },
  {
   "cell_type": "code",
   "execution_count": 10,
   "metadata": {},
   "outputs": [
    {
     "data": {
      "image/png": "[encoded data removed]",
      "text/plain": [
       "<Figure size 432x288 with 2 Axes>"
      ]
     },
     "execution_count": 10,
     "metadata": {},
     "output_type": "execute_result"
    }
   ],
   "source": [
    "# reconstruct a test image\n",
    "x_te = x_test[4]\n",
    "x_te = x_te.reshape(784)\n",
    "re_x = vae.sess.run([vae.re_x], feed_dict={vae.x: [x_te]})[0][0]\n",
    "\n",
    "fig = plt.Figure()\n",
    "axes = fig.subplots(nrows=1, ncols=2)\n",
    "axes[0].imshow(x_te.reshape(28,28))\n",
    "axes[1].imshow(re_x.reshape(28,28))\n",
    "\n",
    "fig"
   ]
  },
  {
   "cell_type": "code",
   "execution_count": 11,
   "metadata": {},
   "outputs": [
    {
     "data": {
      "image/png": "[encoded data removed]",
      "text/plain": [
       "<Figure size 504x504 with 100 Axes>"
      ]
     },
     "execution_count": 11,
     "metadata": {},
     "output_type": "execute_result"
    }
   ],
   "source": [
    "# samples\n",
    "fig = plt.Figure(figsize=(7,7))\n",
    "axes = fig.subplots(10,10)\n",
    "\n",
    "for i in range(10):\n",
    "    for j in range(10):\n",
    "        ax = axes[i,j]\n",
    "        \n",
    "        re_x = vae.sess.run([vae.x_sample])[0]\n",
    "        \n",
    "        ax.imshow(re_x.reshape(28,28))\n",
    "        ax.set_xticks([])\n",
    "        ax.set_xticks([], minor=True)\n",
    "        ax.set_yticks([])\n",
    "        ax.set_yticks([], minor=True)\n",
    "\n",
    "fig"
   ]
  },
  {
   "cell_type": "code",
   "execution_count": null,
   "metadata": {},
   "outputs": [],
   "source": []
  }
 ],
 "metadata": {
  "kernelspec": {
   "display_name": "Python 3",
   "language": "python",
   "name": "python3"
  },
  "language_info": {
   "codemirror_mode": {
    "name": "ipython",
    "version": 3
   },
   "file_extension": ".py",
   "mimetype": "text/x-python",
   "name": "python",
   "nbconvert_exporter": "python",
   "pygments_lexer": "ipython3",
   "version": "3.7.5"
  }
 },
 "nbformat": 4,
 "nbformat_minor": 2
}
